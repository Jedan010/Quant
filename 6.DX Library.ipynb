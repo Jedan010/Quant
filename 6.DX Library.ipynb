{
 "cells": [
  {
   "cell_type": "code",
   "execution_count": 1,
   "metadata": {},
   "outputs": [],
   "source": [
    "import numpy as np\n",
    "import pandas as pd\n",
    "import datetime as dt"
   ]
  },
  {
   "cell_type": "markdown",
   "metadata": {},
   "source": [
    "## Risk-Neutral Discounting"
   ]
  },
  {
   "cell_type": "markdown",
   "metadata": {},
   "source": [
    "### Risk-Neutral Discounting"
   ]
  },
  {
   "cell_type": "code",
   "execution_count": 2,
   "metadata": {},
   "outputs": [],
   "source": [
    "dates = [dt.datetime(2015, 1, 1), dt.datetime(2015, 7, 1), dt.datetime(2016, 1, 1)]"
   ]
  },
  {
   "cell_type": "code",
   "execution_count": 19,
   "metadata": {},
   "outputs": [],
   "source": [
    "def get_year_deltas(date_list, day_count=365):\n",
    "    return np.array([(date-date_list[0]).days/day_count for date in date_list]).round(4)"
   ]
  },
  {
   "cell_type": "code",
   "execution_count": 20,
   "metadata": {},
   "outputs": [
    {
     "data": {
      "text/plain": [
       "array([0.    , 0.4959, 1.    ])"
      ]
     },
     "execution_count": 20,
     "metadata": {},
     "output_type": "execute_result"
    }
   ],
   "source": [
    "get_year_deltas(dates)"
   ]
  },
  {
   "cell_type": "code",
   "execution_count": 28,
   "metadata": {},
   "outputs": [],
   "source": [
    "class constant_short_rate(object):\n",
    "    def __init__(self, name, short_rate):\n",
    "        self.name = name\n",
    "        self.short_rate = short_rate\n",
    "    \n",
    "    def get_discount_factors(self, date_list, dtobjects=True):\n",
    "        if dtobjects is True:\n",
    "            dlist = get_year_deltas(date_list)\n",
    "        else:\n",
    "            dlist = np.array(date_list)\n",
    "        dflist = np.exp(self.short_rate * np.sort(-dlist))\n",
    "        return np.array((date_list, dflist)).T"
   ]
  },
  {
   "cell_type": "code",
   "execution_count": 29,
   "metadata": {},
   "outputs": [],
   "source": [
    "csr = constant_short_rate('csr', 0.05)"
   ]
  },
  {
   "cell_type": "code",
   "execution_count": 30,
   "metadata": {},
   "outputs": [
    {
     "data": {
      "text/plain": [
       "array([[datetime.datetime(2015, 1, 1, 0, 0), 0.951229424500714],\n",
       "       [datetime.datetime(2015, 7, 1, 0, 0), 0.9755098710553984],\n",
       "       [datetime.datetime(2016, 1, 1, 0, 0), 1.0]], dtype=object)"
      ]
     },
     "execution_count": 30,
     "metadata": {},
     "output_type": "execute_result"
    }
   ],
   "source": [
    "csr.get_discount_factors(dates)"
   ]
  },
  {
   "cell_type": "code",
   "execution_count": 32,
   "metadata": {},
   "outputs": [
    {
     "data": {
      "text/plain": [
       "array([[0.        , 0.95122942],\n",
       "       [0.4959    , 0.97550987],\n",
       "       [1.        , 1.        ]])"
      ]
     },
     "execution_count": 32,
     "metadata": {},
     "output_type": "execute_result"
    }
   ],
   "source": [
    "csr.get_discount_factors(get_year_deltas(dates), dtobjects=False)"
   ]
  },
  {
   "cell_type": "markdown",
   "metadata": {},
   "source": [
    "### Market Environment"
   ]
  },
  {
   "cell_type": "code",
   "execution_count": 33,
   "metadata": {},
   "outputs": [],
   "source": [
    "class market_environment(object):\n",
    "    def __init__(self, name, pricing_date):\n",
    "        self.name = name\n",
    "        self.pricing_date = pricing_date\n",
    "        self.constants = {}\n",
    "        self.lists = {}\n",
    "        self.curves = {}\n",
    "\n",
    "    def add_constant(self, key, constant):\n",
    "        self.constants[key] = constant\n",
    "\n",
    "    def get_constant(self, key):\n",
    "        return self.constants.get(key)\n",
    "\n",
    "    def add_list(self, key, list_object):\n",
    "        self.lists[key] = list_object\n",
    "\n",
    "    def get_list(self, key):\n",
    "        return self.lists.get(key)\n",
    "\n",
    "    def add_curve(self, key, curve):\n",
    "        self.curves[key] = curve\n",
    "\n",
    "    def get_curve(self, key):\n",
    "        return self.curves.get(key)\n",
    "\n",
    "    def add_environment(self, env):\n",
    "        for key in env.constants:\n",
    "            self.constants[key] = env.constants[key]\n",
    "        for key in env.lists:\n",
    "            self.lists[key] = env.lists[key]\n",
    "        for key in env.curves:\n",
    "            self.curves[key] = env.curves[key]"
   ]
  },
  {
   "cell_type": "code",
   "execution_count": 34,
   "metadata": {},
   "outputs": [],
   "source": [
    "me_gbm = market_environment('me_gbm', dt.datetime(2015, 1, 1))"
   ]
  },
  {
   "cell_type": "code",
   "execution_count": 35,
   "metadata": {},
   "outputs": [],
   "source": [
    "me_gbm.add_constant('initial_value', 36.)\n",
    "me_gbm.add_constant('volatility', 0.2)\n",
    "me_gbm.add_constant('final_date', dt.datetime(2015, 12, 31))\n",
    "me_gbm.add_constant('currency', 'EUR')\n",
    "me_gbm.add_constant('frequency', 'M')\n",
    "me_gbm.add_constant('paths', 10000)"
   ]
  },
  {
   "cell_type": "code",
   "execution_count": 38,
   "metadata": {},
   "outputs": [],
   "source": [
    "me_gbm.add_curve('discount_curve', csr)"
   ]
  },
  {
   "cell_type": "code",
   "execution_count": null,
   "metadata": {},
   "outputs": [],
   "source": []
  }
 ],
 "metadata": {
  "kernelspec": {
   "display_name": "Python 3",
   "language": "python",
   "name": "python3"
  },
  "language_info": {
   "codemirror_mode": {
    "name": "ipython",
    "version": 3
   },
   "file_extension": ".py",
   "mimetype": "text/x-python",
   "name": "python",
   "nbconvert_exporter": "python",
   "pygments_lexer": "ipython3",
   "version": "3.7.3"
  },
  "toc": {
   "base_numbering": 1,
   "nav_menu": {},
   "number_sections": true,
   "sideBar": true,
   "skip_h1_title": false,
   "title_cell": "Table of Contents",
   "title_sidebar": "Contents",
   "toc_cell": false,
   "toc_position": {},
   "toc_section_display": true,
   "toc_window_display": false
  }
 },
 "nbformat": 4,
 "nbformat_minor": 2
}
